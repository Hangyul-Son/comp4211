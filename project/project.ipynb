{
 "cells": [
  {
   "cell_type": "code",
   "execution_count": 131,
   "metadata": {},
   "outputs": [],
   "source": [
    "import pandas as pd\n",
    "import matplotlib.pyplot as plt"
   ]
  },
  {
   "cell_type": "code",
   "execution_count": 132,
   "metadata": {},
   "outputs": [
    {
     "data": {
      "text/html": [
       "<div>\n",
       "<style scoped>\n",
       "    .dataframe tbody tr th:only-of-type {\n",
       "        vertical-align: middle;\n",
       "    }\n",
       "\n",
       "    .dataframe tbody tr th {\n",
       "        vertical-align: top;\n",
       "    }\n",
       "\n",
       "    .dataframe thead th {\n",
       "        text-align: right;\n",
       "    }\n",
       "</style>\n",
       "<table border=\"1\" class=\"dataframe\">\n",
       "  <thead>\n",
       "    <tr style=\"text-align: right;\">\n",
       "      <th></th>\n",
       "      <th>Month Starting</th>\n",
       "      <th>Open</th>\n",
       "      <th>High</th>\n",
       "      <th>Low</th>\n",
       "      <th>Close</th>\n",
       "      <th>Change %</th>\n",
       "      <th>Avg. Volume</th>\n",
       "    </tr>\n",
       "  </thead>\n",
       "  <tbody>\n",
       "    <tr>\n",
       "      <th>0</th>\n",
       "      <td>Dec. 01, 2022</td>\n",
       "      <td>101.38</td>\n",
       "      <td>102.59</td>\n",
       "      <td>100.67</td>\n",
       "      <td>101.28</td>\n",
       "      <td>-0.17%</td>\n",
       "      <td>21,771,536</td>\n",
       "    </tr>\n",
       "    <tr>\n",
       "      <th>1</th>\n",
       "      <td>Nov. 01, 2022</td>\n",
       "      <td>95.59</td>\n",
       "      <td>101.45</td>\n",
       "      <td>83.45</td>\n",
       "      <td>101.45</td>\n",
       "      <td>7.17%</td>\n",
       "      <td>28,294,944</td>\n",
       "    </tr>\n",
       "    <tr>\n",
       "      <th>2</th>\n",
       "      <td>Oct. 03, 2022</td>\n",
       "      <td>97.22</td>\n",
       "      <td>105.10</td>\n",
       "      <td>91.90</td>\n",
       "      <td>94.66</td>\n",
       "      <td>-1.55%</td>\n",
       "      <td>27,843,110</td>\n",
       "    </tr>\n",
       "    <tr>\n",
       "      <th>3</th>\n",
       "      <td>Sep. 01, 2022</td>\n",
       "      <td>109.20</td>\n",
       "      <td>112.64</td>\n",
       "      <td>96.03</td>\n",
       "      <td>96.15</td>\n",
       "      <td>-11.91%</td>\n",
       "      <td>25,381,194</td>\n",
       "    </tr>\n",
       "    <tr>\n",
       "      <th>4</th>\n",
       "      <td>Aug. 01, 2022</td>\n",
       "      <td>115.53</td>\n",
       "      <td>123.26</td>\n",
       "      <td>108.80</td>\n",
       "      <td>109.15</td>\n",
       "      <td>-6.42%</td>\n",
       "      <td>18,737,451</td>\n",
       "    </tr>\n",
       "  </tbody>\n",
       "</table>\n",
       "</div>"
      ],
      "text/plain": [
       "  Month Starting    Open    High     Low   Close Change % Avg. Volume\n",
       "0  Dec. 01, 2022  101.38  102.59  100.67  101.28   -0.17%  21,771,536\n",
       "1  Nov. 01, 2022   95.59  101.45   83.45  101.45    7.17%  28,294,944\n",
       "2  Oct. 03, 2022   97.22  105.10   91.90   94.66   -1.55%  27,843,110\n",
       "3  Sep. 01, 2022  109.20  112.64   96.03   96.15  -11.91%  25,381,194\n",
       "4  Aug. 01, 2022  115.53  123.26  108.80  109.15   -6.42%  18,737,451"
      ]
     },
     "execution_count": 132,
     "metadata": {},
     "output_type": "execute_result"
    }
   ],
   "source": [
    "df = pd.read_csv(\"google_stock_price_dataset.csv\")\n",
    "df.head()"
   ]
  },
  {
   "cell_type": "code",
   "execution_count": 133,
   "metadata": {},
   "outputs": [
    {
     "data": {
      "text/plain": [
       "<matplotlib.collections.PathCollection at 0x7fc5667dd570>"
      ]
     },
     "execution_count": 133,
     "metadata": {},
     "output_type": "execute_result"
    },
    {
     "data": {
      "image/png": "[encoded data removed]",
      "text/plain": [
       "<Figure size 640x480 with 1 Axes>"
      ]
     },
     "metadata": {},
     "output_type": "display_data"
    }
   ],
   "source": [
    "df['Month Starting'] = pd.to_datetime(df['Month Starting'], errors='coerce')\n",
    "\n",
    "plt.scatter(df['Month Starting'], df['Close'])"
   ]
  },
  {
   "cell_type": "code",
   "execution_count": 134,
   "metadata": {},
   "outputs": [
    {
     "name": "stdout",
     "output_type": "stream",
     "text": [
      "<class 'pandas.core.frame.DataFrame'>\n",
      "RangeIndex: 108 entries, 0 to 107\n",
      "Data columns (total 7 columns):\n",
      " #   Column          Non-Null Count  Dtype         \n",
      "---  ------          --------------  -----         \n",
      " 0   Month Starting  103 non-null    datetime64[ns]\n",
      " 1   Open            106 non-null    float64       \n",
      " 2   High            106 non-null    float64       \n",
      " 3   Low             106 non-null    float64       \n",
      " 4   Close           106 non-null    float64       \n",
      " 5   Change %        106 non-null    object        \n",
      " 6   Avg. Volume     106 non-null    object        \n",
      "dtypes: datetime64[ns](1), float64(4), object(2)\n",
      "memory usage: 6.0+ KB\n"
     ]
    },
    {
     "data": {
      "text/plain": [
       "None"
      ]
     },
     "metadata": {},
     "output_type": "display_data"
    },
    {
     "name": "stdout",
     "output_type": "stream",
     "text": [
      "<class 'pandas.core.frame.DataFrame'>\n",
      "RangeIndex: 106 entries, 0 to 105\n",
      "Data columns (total 7 columns):\n",
      " #   Column          Non-Null Count  Dtype         \n",
      "---  ------          --------------  -----         \n",
      " 0   Month Starting  106 non-null    datetime64[ns]\n",
      " 1   Open            106 non-null    float64       \n",
      " 2   High            106 non-null    float64       \n",
      " 3   Low             106 non-null    float64       \n",
      " 4   Close           106 non-null    float64       \n",
      " 5   Change %        106 non-null    object        \n",
      " 6   Avg. Volume     106 non-null    object        \n",
      "dtypes: datetime64[ns](1), float64(4), object(2)\n",
      "memory usage: 5.9+ KB\n"
     ]
    },
    {
     "name": "stderr",
     "output_type": "stream",
     "text": [
      "/var/folders/y0/kd_yg4fn0z3f7f47nhkbnk5c0000gn/T/ipykernel_47288/1137296554.py:2: FutureWarning: DataFrame.mean and DataFrame.median with numeric_only=None will include datetime64 and datetime64tz columns in a future version.\n",
      "  df.fillna(df.mean(), inplace=True)\n",
      "/var/folders/y0/kd_yg4fn0z3f7f47nhkbnk5c0000gn/T/ipykernel_47288/1137296554.py:2: FutureWarning: The default value of numeric_only in DataFrame.mean is deprecated. In a future version, it will default to False. In addition, specifying 'numeric_only=None' is deprecated. Select only valid columns or specify the value of numeric_only to silence this warning.\n",
      "  df.fillna(df.mean(), inplace=True)\n",
      "/var/folders/y0/kd_yg4fn0z3f7f47nhkbnk5c0000gn/T/ipykernel_47288/1137296554.py:5: SettingWithCopyWarning: \n",
      "A value is trying to be set on a copy of a slice from a DataFrame\n",
      "\n",
      "See the caveats in the documentation: https://pandas.pydata.org/pandas-docs/stable/user_guide/indexing.html#returning-a-view-versus-a-copy\n",
      "  df['Month Starting'][43] = pd.to_datetime('2019-05-01')\n",
      "/var/folders/y0/kd_yg4fn0z3f7f47nhkbnk5c0000gn/T/ipykernel_47288/1137296554.py:6: SettingWithCopyWarning: \n",
      "A value is trying to be set on a copy of a slice from a DataFrame\n",
      "\n",
      "See the caveats in the documentation: https://pandas.pydata.org/pandas-docs/stable/user_guide/indexing.html#returning-a-view-versus-a-copy\n",
      "  df['Month Starting'][55] = pd.to_datetime('2018-05-01')\n"
     ]
    },
    {
     "data": {
      "text/plain": [
       "None"
      ]
     },
     "metadata": {},
     "output_type": "display_data"
    }
   ],
   "source": [
    "display(df.info())\n",
    "df.fillna(df.mean(), inplace=True)\n",
    "df = df.iloc[0:-2]\n",
    "df['Month Starting'][31] = pd.to_datetime('2020-05-01')\n",
    "df['Month Starting'][43] = pd.to_datetime('2019-05-01')\n",
    "df['Month Starting'][55] = pd.to_datetime('2018-05-01')\n",
    "display(df.info())"
   ]
  },
  {
   "cell_type": "code",
   "execution_count": 135,
   "metadata": {},
   "outputs": [
    {
     "data": {
      "text/plain": [
       "<matplotlib.collections.PathCollection at 0x7fc56680b0a0>"
      ]
     },
     "execution_count": 135,
     "metadata": {},
     "output_type": "execute_result"
    },
    {
     "data": {
      "image/png": "[encoded data removed]",
      "text/plain": [
       "<Figure size 640x480 with 1 Axes>"
      ]
     },
     "metadata": {},
     "output_type": "display_data"
    }
   ],
   "source": [
    "df['Return'] = df['Close'].pct_change(-1)\n",
    "plt.scatter(df['Month Starting'], df['Return'])"
   ]
  },
  {
   "cell_type": "code",
   "execution_count": 136,
   "metadata": {},
   "outputs": [
    {
     "data": {
      "text/plain": [
       "<matplotlib.collections.PathCollection at 0x7fc5668087c0>"
      ]
     },
     "execution_count": 136,
     "metadata": {},
     "output_type": "execute_result"
    },
    {
     "data": {
      "image/png": "[encoded data removed]",
      "text/plain": [
       "<Figure size 640x480 with 1 Axes>"
      ]
     },
     "metadata": {},
     "output_type": "display_data"
    }
   ],
   "source": [
    "from sklearn.preprocessing import StandardScaler\n",
    "scaler = StandardScaler()\n",
    "df['Return'] = scaler.fit_transform(df['Return'].values.reshape(-1,1))\n",
    "df['Rolling Average'] = df['Return'].rolling(window=12).mean()\n",
    "plt.scatter(df['Month Starting'], df['Rolling Average'])"
   ]
  },
  {
   "cell_type": "code",
   "execution_count": 137,
   "metadata": {},
   "outputs": [
    {
     "data": {
      "text/html": [
       "<div>\n",
       "<style scoped>\n",
       "    .dataframe tbody tr th:only-of-type {\n",
       "        vertical-align: middle;\n",
       "    }\n",
       "\n",
       "    .dataframe tbody tr th {\n",
       "        vertical-align: top;\n",
       "    }\n",
       "\n",
       "    .dataframe thead th {\n",
       "        text-align: right;\n",
       "    }\n",
       "</style>\n",
       "<table border=\"1\" class=\"dataframe\">\n",
       "  <thead>\n",
       "    <tr style=\"text-align: right;\">\n",
       "      <th></th>\n",
       "      <th>Month Starting</th>\n",
       "      <th>Open</th>\n",
       "      <th>High</th>\n",
       "      <th>Low</th>\n",
       "      <th>Close</th>\n",
       "      <th>Change %</th>\n",
       "      <th>Avg. Volume</th>\n",
       "      <th>Return</th>\n",
       "      <th>Rolling Average</th>\n",
       "    </tr>\n",
       "  </thead>\n",
       "  <tbody>\n",
       "    <tr>\n",
       "      <th>101</th>\n",
       "      <td>2014-07-01</td>\n",
       "      <td>28.92</td>\n",
       "      <td>29.98</td>\n",
       "      <td>28.25</td>\n",
       "      <td>28.58</td>\n",
       "      <td>-0.64%</td>\n",
       "      <td>31,411,358</td>\n",
       "      <td>-0.318260</td>\n",
       "      <td>-0.345665</td>\n",
       "    </tr>\n",
       "    <tr>\n",
       "      <th>102</th>\n",
       "      <td>2014-06-02</td>\n",
       "      <td>28.03</td>\n",
       "      <td>29.12</td>\n",
       "      <td>26.94</td>\n",
       "      <td>28.76</td>\n",
       "      <td>2.75%</td>\n",
       "      <td>36,121,936</td>\n",
       "      <td>0.200409</td>\n",
       "      <td>-0.282555</td>\n",
       "    </tr>\n",
       "    <tr>\n",
       "      <th>103</th>\n",
       "      <td>2014-05-01</td>\n",
       "      <td>26.35</td>\n",
       "      <td>28.39</td>\n",
       "      <td>25.16</td>\n",
       "      <td>27.99</td>\n",
       "      <td>6.31%</td>\n",
       "      <td>34,808,252</td>\n",
       "      <td>0.746228</td>\n",
       "      <td>-0.189474</td>\n",
       "    </tr>\n",
       "    <tr>\n",
       "      <th>104</th>\n",
       "      <td>2014-04-01</td>\n",
       "      <td>27.93</td>\n",
       "      <td>30.24</td>\n",
       "      <td>25.14</td>\n",
       "      <td>26.33</td>\n",
       "      <td>-5.44%</td>\n",
       "      <td>64,037,909</td>\n",
       "      <td>-1.060425</td>\n",
       "      <td>-0.234573</td>\n",
       "    </tr>\n",
       "    <tr>\n",
       "      <th>105</th>\n",
       "      <td>2014-03-27</td>\n",
       "      <td>28.40</td>\n",
       "      <td>28.40</td>\n",
       "      <td>27.65</td>\n",
       "      <td>27.85</td>\n",
       "      <td>0.00%</td>\n",
       "      <td>432,192</td>\n",
       "      <td>NaN</td>\n",
       "      <td>NaN</td>\n",
       "    </tr>\n",
       "  </tbody>\n",
       "</table>\n",
       "</div>"
      ],
      "text/plain": [
       "    Month Starting   Open   High    Low  Close Change % Avg. Volume    Return  \\\n",
       "101     2014-07-01  28.92  29.98  28.25  28.58   -0.64%  31,411,358 -0.318260   \n",
       "102     2014-06-02  28.03  29.12  26.94  28.76    2.75%  36,121,936  0.200409   \n",
       "103     2014-05-01  26.35  28.39  25.16  27.99    6.31%  34,808,252  0.746228   \n",
       "104     2014-04-01  27.93  30.24  25.14  26.33   -5.44%  64,037,909 -1.060425   \n",
       "105     2014-03-27  28.40  28.40  27.65  27.85    0.00%     432,192       NaN   \n",
       "\n",
       "     Rolling Average  \n",
       "101        -0.345665  \n",
       "102        -0.282555  \n",
       "103        -0.189474  \n",
       "104        -0.234573  \n",
       "105              NaN  "
      ]
     },
     "metadata": {},
     "output_type": "display_data"
    },
    {
     "data": {
      "text/html": [
       "<div>\n",
       "<style scoped>\n",
       "    .dataframe tbody tr th:only-of-type {\n",
       "        vertical-align: middle;\n",
       "    }\n",
       "\n",
       "    .dataframe tbody tr th {\n",
       "        vertical-align: top;\n",
       "    }\n",
       "\n",
       "    .dataframe thead th {\n",
       "        text-align: right;\n",
       "    }\n",
       "</style>\n",
       "<table border=\"1\" class=\"dataframe\">\n",
       "  <thead>\n",
       "    <tr style=\"text-align: right;\">\n",
       "      <th></th>\n",
       "      <th>Month Starting</th>\n",
       "      <th>Open</th>\n",
       "      <th>High</th>\n",
       "      <th>Low</th>\n",
       "      <th>Close</th>\n",
       "      <th>Change %</th>\n",
       "      <th>Avg. Volume</th>\n",
       "      <th>Return</th>\n",
       "      <th>Rolling Average</th>\n",
       "    </tr>\n",
       "  </thead>\n",
       "  <tbody>\n",
       "    <tr>\n",
       "      <th>101</th>\n",
       "      <td>2014-07-01</td>\n",
       "      <td>28.92</td>\n",
       "      <td>29.98</td>\n",
       "      <td>28.25</td>\n",
       "      <td>28.58</td>\n",
       "      <td>-0.64%</td>\n",
       "      <td>31,411,358</td>\n",
       "      <td>-3.182604e-01</td>\n",
       "      <td>-0.345665</td>\n",
       "    </tr>\n",
       "    <tr>\n",
       "      <th>102</th>\n",
       "      <td>2014-06-02</td>\n",
       "      <td>28.03</td>\n",
       "      <td>29.12</td>\n",
       "      <td>26.94</td>\n",
       "      <td>28.76</td>\n",
       "      <td>2.75%</td>\n",
       "      <td>36,121,936</td>\n",
       "      <td>2.004088e-01</td>\n",
       "      <td>-0.282555</td>\n",
       "    </tr>\n",
       "    <tr>\n",
       "      <th>103</th>\n",
       "      <td>2014-05-01</td>\n",
       "      <td>26.35</td>\n",
       "      <td>28.39</td>\n",
       "      <td>25.16</td>\n",
       "      <td>27.99</td>\n",
       "      <td>6.31%</td>\n",
       "      <td>34,808,252</td>\n",
       "      <td>7.462277e-01</td>\n",
       "      <td>-0.189474</td>\n",
       "    </tr>\n",
       "    <tr>\n",
       "      <th>104</th>\n",
       "      <td>2014-04-01</td>\n",
       "      <td>27.93</td>\n",
       "      <td>30.24</td>\n",
       "      <td>25.14</td>\n",
       "      <td>26.33</td>\n",
       "      <td>-5.44%</td>\n",
       "      <td>64,037,909</td>\n",
       "      <td>-1.060425e+00</td>\n",
       "      <td>-0.234573</td>\n",
       "    </tr>\n",
       "    <tr>\n",
       "      <th>105</th>\n",
       "      <td>2014-03-27</td>\n",
       "      <td>28.40</td>\n",
       "      <td>28.40</td>\n",
       "      <td>27.65</td>\n",
       "      <td>27.85</td>\n",
       "      <td>0.00%</td>\n",
       "      <td>432,192</td>\n",
       "      <td>4.229421e-18</td>\n",
       "      <td>NaN</td>\n",
       "    </tr>\n",
       "  </tbody>\n",
       "</table>\n",
       "</div>"
      ],
      "text/plain": [
       "    Month Starting   Open   High    Low  Close Change % Avg. Volume  \\\n",
       "101     2014-07-01  28.92  29.98  28.25  28.58   -0.64%  31,411,358   \n",
       "102     2014-06-02  28.03  29.12  26.94  28.76    2.75%  36,121,936   \n",
       "103     2014-05-01  26.35  28.39  25.16  27.99    6.31%  34,808,252   \n",
       "104     2014-04-01  27.93  30.24  25.14  26.33   -5.44%  64,037,909   \n",
       "105     2014-03-27  28.40  28.40  27.65  27.85    0.00%     432,192   \n",
       "\n",
       "           Return  Rolling Average  \n",
       "101 -3.182604e-01        -0.345665  \n",
       "102  2.004088e-01        -0.282555  \n",
       "103  7.462277e-01        -0.189474  \n",
       "104 -1.060425e+00        -0.234573  \n",
       "105  4.229421e-18              NaN  "
      ]
     },
     "metadata": {},
     "output_type": "display_data"
    }
   ],
   "source": [
    "#Handling Unexpected Missing Values\n",
    "display(df.tail())\n",
    "df['Return'].fillna(df['Return'].mean(), inplace=True)\n",
    "display(df.tail())"
   ]
  },
  {
   "cell_type": "code",
   "execution_count": 139,
   "metadata": {},
   "outputs": [
    {
     "name": "stderr",
     "output_type": "stream",
     "text": [
      "/Users/hangyulson/opt/anaconda3/envs/comp4221/lib/python3.10/site-packages/sklearn/base.py:420: UserWarning: X does not have valid feature names, but IsolationForest was fitted with feature names\n",
      "  warnings.warn(\n"
     ]
    },
    {
     "data": {
      "text/plain": [
       "<matplotlib.collections.PathCollection at 0x7fc53144f280>"
      ]
     },
     "execution_count": 139,
     "metadata": {},
     "output_type": "execute_result"
    },
    {
     "data": {
      "image/png": "[encoded data removed]",
      "text/plain": [
       "<Figure size 640x480 with 1 Axes>"
      ]
     },
     "metadata": {},
     "output_type": "display_data"
    }
   ],
   "source": [
    "from sklearn.ensemble import IsolationForest\n",
    "model = IsolationForest(contamination=0.05)\n",
    "model.fit(df[['Return']])\n",
    "\n",
    "# Predicting anomalies\n",
    "\n",
    "df['Anomaly'] = model.predict(df[['Return']])\n",
    "plt.scatter(df['Month Starting'], df['Return'])\n",
    "plt.scatter(df[df['Anomaly'] == -1]['Month Starting'], df[df['Anomaly'] == -1]['Return'], color='red')"
   ]
  },
  {
   "cell_type": "code",
   "execution_count": 140,
   "metadata": {},
   "outputs": [
    {
     "name": "stderr",
     "output_type": "stream",
     "text": [
      "/Users/hangyulson/opt/anaconda3/envs/comp4221/lib/python3.10/site-packages/sklearn/base.py:420: UserWarning: X does not have valid feature names, but IsolationForest was fitted with feature names\n",
      "  warnings.warn(\n"
     ]
    },
    {
     "data": {
      "text/plain": [
       "<matplotlib.collections.PathCollection at 0x7fc5314f01c0>"
      ]
     },
     "execution_count": 140,
     "metadata": {},
     "output_type": "execute_result"
    },
    {
     "data": {
      "image/png": "[encoded data removed]",
      "text/plain": [
       "<Figure size 640x480 with 1 Axes>"
      ]
     },
     "metadata": {},
     "output_type": "display_data"
    }
   ],
   "source": [
    "#Consider two features instead of one\n",
    "model = IsolationForest(contamination=0.05)\n",
    "model.fit(df[['Return', 'Close']])\n",
    "\n",
    "# Predicting anomalies\n",
    "df['Anomaly'] = model.predict(df[['Return','Close']])\n",
    "plt.scatter(df['Month Starting'], df['Return'])\n",
    "plt.scatter(df[df['Anomaly'] == -1]['Month Starting'], df[df['Anomaly'] == -1]['Return'], color='red')"
   ]
  },
  {
   "cell_type": "code",
   "execution_count": null,
   "metadata": {},
   "outputs": [],
   "source": []
  }
 ],
 "metadata": {
  "kernelspec": {
   "display_name": "comp4221",
   "language": "python",
   "name": "comp4221"
  },
  "language_info": {
   "codemirror_mode": {
    "name": "ipython",
    "version": 3
   },
   "file_extension": ".py",
   "mimetype": "text/x-python",
   "name": "python",
   "nbconvert_exporter": "python",
   "pygments_lexer": "ipython3",
   "version": "3.10.9"
  },
  "orig_nbformat": 4
 },
 "nbformat": 4,
 "nbformat_minor": 2
}
